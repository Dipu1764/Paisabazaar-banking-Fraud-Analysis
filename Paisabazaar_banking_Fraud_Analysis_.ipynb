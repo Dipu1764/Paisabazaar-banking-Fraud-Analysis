{
  "nbformat": 4,
  "nbformat_minor": 0,
  "metadata": {
    "colab": {
      "private_outputs": true,
      "provenance": [],
      "collapsed_sections": [
        "vncDsAP0Gaoa",
        "FJNUwmbgGyua",
        "w6K7xa23Elo4",
        "yQaldy8SH6Dl",
        "PH-0ReGfmX4f",
        "mDgbUHAGgjLW",
        "O_i_v8NEhb9l",
        "HhfV-JJviCcP",
        "Y3lxredqlCYt",
        "3RnN4peoiCZX",
        "x71ZqKXriCWQ",
        "7hBIi_osiCS2",
        "JlHwYmJAmNHm",
        "35m5QtbWiB9F",
        "PoPl-ycgm1ru",
        "H0kj-8xxnORC",
        "nA9Y7ga8ng1Z",
        "PBTbrJXOngz2",
        "u3PMJOP6ngxN",
        "dauF4eBmngu3",
        "bKJF3rekwFvQ",
        "MSa1f5Uengrz",
        "GF8Ens_Soomf",
        "0wOQAZs5pc--",
        "K5QZ13OEpz2H",
        "lQ7QKXXCp7Bj",
        "448CDAPjqfQr",
        "KSlN3yHqYklG",
        "t6dVpIINYklI",
        "ijmpgYnKYklI",
        "-JiQyfWJYklI",
        "EM7whBJCYoAo",
        "fge-S5ZAYoAp",
        "85gYPyotYoAp",
        "RoGjAbkUYoAp",
        "4Of9eVA-YrdM",
        "iky9q4vBYrdO",
        "F6T5p64dYrdO",
        "y-Ehk30pYrdP",
        "bamQiAODYuh1",
        "QHF8YVU7Yuh3",
        "GwzvFGzlYuh3",
        "qYpmQ266Yuh3",
        "OH-pJp9IphqM",
        "bbFf2-_FphqN",
        "_ouA3fa0phqN",
        "Seke61FWphqN",
        "PIIx-8_IphqN",
        "t27r6nlMphqO",
        "r2jJGEOYphqO",
        "b0JNsNcRphqO",
        "BZR9WyysphqO",
        "jj7wYXLtphqO",
        "eZrbJ2SmphqO",
        "rFu4xreNphqO",
        "YJ55k-q6phqO",
        "gCFgpxoyphqP",
        "OVtJsKN_phqQ",
        "lssrdh5qphqQ",
        "U2RJ9gkRphqQ",
        "1M8mcRywphqQ",
        "tgIPom80phqQ",
        "JMzcOPDDphqR",
        "x-EpHcCOp1ci",
        "X_VqEhTip1ck",
        "8zGJKyg5p1ck",
        "PVzmfK_Ep1ck",
        "n3dbpmDWp1ck",
        "ylSl6qgtp1ck",
        "ZWILFDl5p1ck",
        "M7G43BXep1ck",
        "Ag9LCva-p1cl",
        "E6MkPsBcp1cl",
        "2cELzS2fp1cl",
        "3MPXvC8up1cl",
        "NC_X3p0fY2L0",
        "UV0SzAkaZNRQ",
        "YPEH6qLeZNRQ",
        "q29F0dvdveiT",
        "EXh0U9oCveiU",
        "22aHeOlLveiV",
        "JcMwzZxoAimU",
        "8G2x9gOozGDZ",
        "gCX9965dhzqZ",
        "gIfDvo9L0UH2"
      ],
      "include_colab_link": true
    },
    "kernelspec": {
      "name": "python3",
      "display_name": "Python 3"
    },
    "language_info": {
      "name": "python"
    }
  },
  "cells": [
    {
      "cell_type": "markdown",
      "metadata": {
        "id": "view-in-github",
        "colab_type": "text"
      },
      "source": [
        "<a href=\"https://colab.research.google.com/github/Dipu1764/Paisabazaar-banking-Fraud-Analysis/blob/main/Paisabazaar_banking_Fraud_Analysis_.ipynb\" target=\"_parent\"><img src=\"https://colab.research.google.com/assets/colab-badge.svg\" alt=\"Open In Colab\"/></a>"
      ]
    },
    {
      "cell_type": "markdown",
      "source": [
        "# **Project Name**    - Paisabazaar banking Fraud Analysis\n",
        "\n"
      ],
      "metadata": {
        "id": "vncDsAP0Gaoa"
      }
    },
    {
      "cell_type": "markdown",
      "source": [
        "# **Project Summary -**"
      ],
      "metadata": {
        "id": "FJNUwmbgGyua"
      }
    },
    {
      "cell_type": "markdown",
      "source": [
        "In this project, the aim was to analyze customer data from Paisabazaar to detect patterns and potential indicators of banking fraud. The dataset contained 100,000 entries and 28 columns related to customer profiles, financial habits, credit history, and loan details. Various features such as Age, SSN, Occupation, Annual Income, Credit Utilization Ratio, Payment Behavior, Credit Score, and others were analyzed to understand the customers' behavior and identify anomalies that could suggest fraudulent activity.\n",
        "\n",
        "The key objectives of the analysis were:\n",
        "\n",
        "**Data Wrangling:** Cleaning and preparing the data for analysis by handling missing values, correcting data types, and ensuring consistency.\n",
        "Exploratory Data Analysis (EDA): Using visualizations to explore relationships between different features, identify patterns, and understand the dataset structure.\n",
        "\n",
        "**Feature Engineering:** Creating new variables or transforming existing ones to improve the ability to identify fraudulent patterns.\n",
        "Outlier Detection: Identifying unusual patterns that could indicate fraudulent behavior, such as extreme credit utilization ratios, unusually high outstanding debt, or delayed payments.\n",
        "\n",
        "**Credit Score Analysis:** Investigating the distribution of credit scores to see if specific profiles or occupations are more likely to have low or suspicious credit scores.\n",
        "\n",
        "**Loan and Payment Behavior:** Examining loan types, the number of delayed payments, and payment behavior to spot inconsistencies.\n",
        "\n",
        "**Risk Analysis:** Segmenting customers based on risk factors such as credit utilization, loan history, and debt, which can be indicators of financial distress or fraud."
      ],
      "metadata": {
        "id": "F6v_1wHtG2nS"
      }
    },
    {
      "cell_type": "markdown",
      "source": [
        "# **GitHub Link -**"
      ],
      "metadata": {
        "id": "w6K7xa23Elo4"
      }
    },
    {
      "cell_type": "markdown",
      "source": [
        " GitHub Link here :- https://github.com/Dipu1764\n",
        "\n"
      ],
      "metadata": {
        "id": "h1o69JH3Eqqn"
      }
    },
    {
      "cell_type": "markdown",
      "source": [
        "# **Problem Statement**\n"
      ],
      "metadata": {
        "id": "yQaldy8SH6Dl"
      }
    },
    {
      "cell_type": "markdown",
      "source": [
        "Given a dataset of 100,000 banking customers with detailed information about their financial activities, credit history, and personal profiles, how can we effectively analyze this data to detect and flag potential fraudulent behavior? The analysis should focus on identifying patterns and anomalies that deviate from typical customer behavior, which could indicate fraudulent activities such as credit card fraud, loan exploitation, or unusual financial transactions."
      ],
      "metadata": {
        "id": "DpeJGUA3kjGy"
      }
    },
    {
      "cell_type": "markdown",
      "source": [
        "# ***Let's Begin !***"
      ],
      "metadata": {
        "id": "O_i_v8NEhb9l"
      }
    },
    {
      "cell_type": "markdown",
      "source": [
        "## ***1. Know Your Data***"
      ],
      "metadata": {
        "id": "HhfV-JJviCcP"
      }
    },
    {
      "cell_type": "markdown",
      "source": [
        "### Import Libraries"
      ],
      "metadata": {
        "id": "Y3lxredqlCYt"
      }
    },
    {
      "cell_type": "code",
      "source": [
        "# Import Libraries\n",
        "import pandas as pd\n",
        "import numpy as np\n",
        "import matplotlib.pyplot as plt\n",
        "import seaborn as sns\n",
        "import warnings\n",
        "warnings.filterwarnings('ignore')"
      ],
      "metadata": {
        "id": "M8Vqi-pPk-HR"
      },
      "execution_count": null,
      "outputs": []
    },
    {
      "cell_type": "markdown",
      "source": [
        "### Dataset Loading"
      ],
      "metadata": {
        "id": "3RnN4peoiCZX"
      }
    },
    {
      "cell_type": "code",
      "source": [
        "# Load Dataset\n",
        "df = pd.read_csv('/content/dataset.csv')"
      ],
      "metadata": {
        "id": "4CkvbW_SlZ_R"
      },
      "execution_count": null,
      "outputs": []
    },
    {
      "cell_type": "markdown",
      "source": [
        "### Dataset First View"
      ],
      "metadata": {
        "id": "x71ZqKXriCWQ"
      }
    },
    {
      "cell_type": "code",
      "source": [
        "# Dataset First Look\n",
        "df.head()"
      ],
      "metadata": {
        "id": "LWNFOSvLl09H"
      },
      "execution_count": null,
      "outputs": []
    },
    {
      "cell_type": "markdown",
      "source": [
        "### Dataset Rows & Columns count"
      ],
      "metadata": {
        "id": "7hBIi_osiCS2"
      }
    },
    {
      "cell_type": "code",
      "source": [
        "# Dataset Rows & Columns count\n",
        "df.shape"
      ],
      "metadata": {
        "id": "Kllu7SJgmLij"
      },
      "execution_count": null,
      "outputs": []
    },
    {
      "cell_type": "markdown",
      "source": [
        "### Dataset Information"
      ],
      "metadata": {
        "id": "JlHwYmJAmNHm"
      }
    },
    {
      "cell_type": "code",
      "source": [
        "# Dataset Info\n",
        "df.info()"
      ],
      "metadata": {
        "id": "e9hRXRi6meOf"
      },
      "execution_count": null,
      "outputs": []
    },
    {
      "cell_type": "markdown",
      "source": [
        "#### Duplicate Values"
      ],
      "metadata": {
        "id": "35m5QtbWiB9F"
      }
    },
    {
      "cell_type": "code",
      "source": [
        "# Dataset Duplicate Value Count\n",
        "df.duplicated().sum()"
      ],
      "metadata": {
        "id": "1sLdpKYkmox0"
      },
      "execution_count": null,
      "outputs": []
    },
    {
      "cell_type": "markdown",
      "source": [
        "#### Missing Values/Null Values"
      ],
      "metadata": {
        "id": "PoPl-ycgm1ru"
      }
    },
    {
      "cell_type": "code",
      "source": [
        "# Missing Values/Null Values Count\n",
        "df.isnull().sum()"
      ],
      "metadata": {
        "id": "GgHWkxvamxVg"
      },
      "execution_count": null,
      "outputs": []
    },
    {
      "cell_type": "code",
      "source": [
        "# Visualizing the missing values\n",
        "sns.heatmap(df.isnull(), cbar=False)"
      ],
      "metadata": {
        "id": "3q5wnI3om9sJ"
      },
      "execution_count": null,
      "outputs": []
    },
    {
      "cell_type": "markdown",
      "source": [
        "### What did you know about your dataset?"
      ],
      "metadata": {
        "id": "H0kj-8xxnORC"
      }
    },
    {
      "cell_type": "markdown",
      "source": [
        "# Dataset Overview\n",
        "\n",
        "**Total Entries (Rows):** 100,000 (RangeIndex: 0 to 99,999)\n",
        "\n",
        "**Total Columns:** 28 columns with a variety of data types, including numerical, categorical, and string types.\n",
        "\n",
        "\n",
        "# Key Insights and Observations:\n",
        "**Diverse Financial Information:** The dataset contains a wide range of financial data, including income, loans, debt, credit inquiries, and payment behavior, which will be crucial for fraud analysis.\n",
        "\n",
        "**Fraud Indicators:** Columns such as 'Num_of_Delayed_Payment', 'Outstanding_Debt', 'Changed_Credit_Limit', and 'Payment_Behaviour' could be strong indicators of risky or fraudulent behavior.\n",
        "\n",
        "**Categorical Data:** Several columns are categorical (e.g., 'Occupation', 'Type_of_Loan', 'Credit_Mix', 'Payment_Behaviour', 'Credit_Score'). These need to be encoded (e.g., using one-hot encoding or label encoding) if used in machine learning models.\n",
        "\n",
        "**Potential Redundancies:** Some columns may have closely related or redundant information. For example, 'Annual_Income' and 'Monthly_Inhand_Salary' are related. Also, 'Num_of_Loan' and 'Type_of_Loan' might be correlated.\n",
        "\n",
        "**Credit Score Insights:** The 'Credit_Score' column is a crucial feature, possibly reflecting the risk of a customer being involved in fraudulent activities.\n",
        "\n",
        "**Customer Profile Analysis:** Using columns like 'Age', 'Occupation', 'Annual_Income', and 'Credit_History_Age', we can build detailed profiles of customers, which can help in detecting anomalies or fraudulent patterns.\n",
        "\n",
        "**Data Quality**: There is no indication of missing values (based on the column descriptions), but data types need attention. For instance, 'SSN' should be a string, and certain numerical columns might contain outliers that need handling.\n",
        "\n",
        "# Areas for Further Analysis:\n",
        "\n",
        "**Feature Engineering:** Create new features such as 'Debt-to-Income Ratio' (Outstanding Debt/Annual Income) and 'Credit Usage Ratio' (Credit Utilization Ratio/Credit Limit) to better understand customer financial health.\n",
        "\n",
        "**Fraud Detection:** Focus on the behavior-related columns (e.g., 'Payment_of_Min_Amount', 'Payment_Behaviour') to predict and detect potentially fraudulent customers."
      ],
      "metadata": {
        "id": "gfoNAAC-nUe_"
      }
    },
    {
      "cell_type": "markdown",
      "source": [
        "## ***2. Understanding Your Variables***"
      ],
      "metadata": {
        "id": "nA9Y7ga8ng1Z"
      }
    },
    {
      "cell_type": "code",
      "source": [
        "# Dataset Columns\n",
        "df.columns"
      ],
      "metadata": {
        "id": "j7xfkqrt5Ag5"
      },
      "execution_count": null,
      "outputs": []
    },
    {
      "cell_type": "code",
      "source": [
        "# Dataset Describe\n",
        "df.describe()"
      ],
      "metadata": {
        "id": "DnOaZdaE5Q5t"
      },
      "execution_count": null,
      "outputs": []
    },
    {
      "cell_type": "markdown",
      "source": [
        "### Check Unique Values for each variable."
      ],
      "metadata": {
        "id": "u3PMJOP6ngxN"
      }
    },
    {
      "cell_type": "code",
      "source": [
        "# Check Unique Values for each variable.\n",
        "df.nunique()"
      ],
      "metadata": {
        "id": "zms12Yq5n-jE"
      },
      "execution_count": null,
      "outputs": []
    },
    {
      "cell_type": "markdown",
      "source": [
        "## 3. ***Data Wrangling***"
      ],
      "metadata": {
        "id": "dauF4eBmngu3"
      }
    },
    {
      "cell_type": "markdown",
      "source": [
        "### Data Wrangling Code"
      ],
      "metadata": {
        "id": "bKJF3rekwFvQ"
      }
    },
    {
      "cell_type": "code",
      "source": [
        "# Write your code to make your dataset analysis ready.\n",
        "# Check for missing values\n",
        "print(\"Missing values in each column:\")\n",
        "print(df.isnull().sum())\n",
        "\n",
        "# Example columns (replace 'YourColumnName' with actual column names)\n",
        "# Fill missing values with default values for specific columns\n",
        "df.fillna({\n",
        "    'Age': df['Age'].median(),\n",
        "    'Annual_Income': df['Annual_Income'].median()\n",
        "}, inplace=True)\n",
        "\n",
        "# Drop rows where specific columns have NaN\n",
        "# Replace 'YourColumnName' with actual column names that you want to check\n",
        "df.dropna(subset=['Age', 'Annual_Income'], inplace=True)\n",
        "\n",
        "# Check if any missing values remain\n",
        "print(\"\\nMissing values after handling:\")\n",
        "print(df.isnull().sum())\n",
        "\n",
        "# Save the cleaned DataFrame\n",
        "df.to_csv('cleaned_data.csv', index=False)\n"
      ],
      "metadata": {
        "id": "hCmuiIePqzwK"
      },
      "execution_count": null,
      "outputs": []
    },
    {
      "cell_type": "code",
      "source": [
        "# Example: Removing outliers in 'Annual_Income' column using IQR\n",
        "Q1 = df['Annual_Income'].quantile(0.25)\n",
        "Q3 = df['Annual_Income'].quantile(0.75)\n",
        "IQR = Q3 - Q1\n",
        "df = df[(df['Annual_Income'] >= (Q1 - 1.5 * IQR)) & (df['Annual_Income'] <= (Q3 + 1.5 * IQR))]\n"
      ],
      "metadata": {
        "id": "yaMQB3OdrvUI"
      },
      "execution_count": null,
      "outputs": []
    },
    {
      "cell_type": "code",
      "source": [
        "# Example: Creating a new feature 'Income_per_Account'\n",
        "df['Income_per_Account'] = df['Annual_Income'] / df['Num_Bank_Accounts']\n",
        "\n",
        "# Example: Creating a feature 'Credit_Score_Level'\n",
        "df['Credit_Score_Level'] = df['Credit_Score'].apply(lambda x: 'High' if isinstance(x, int) and x > 700 else 'Low')\n",
        "\n"
      ],
      "metadata": {
        "id": "ksAEyvfMrzBY"
      },
      "execution_count": null,
      "outputs": []
    },
    {
      "cell_type": "code",
      "source": [
        "from sklearn.preprocessing import StandardScaler\n",
        "\n",
        "scaler = StandardScaler()\n",
        "df[['Annual_Income', 'Monthly_Inhand_Salary', 'Outstanding_Debt']] = scaler.fit_transform(\n",
        "    df[['Annual_Income', 'Monthly_Inhand_Salary', 'Outstanding_Debt']]\n",
        ")\n"
      ],
      "metadata": {
        "id": "ZCvfXsuwsNRk"
      },
      "execution_count": null,
      "outputs": []
    },
    {
      "cell_type": "code",
      "source": [
        "# Example: Distribution of Annual Income\n",
        "sns.histplot(df['Annual_Income'])\n",
        "plt.title('Distribution of Annual Income')\n",
        "plt.show()\n",
        "\n",
        "# Example: Violin Plot\n",
        "plt.figure(figsize=(12, 6))\n",
        "sns.violinplot(x='Occupation', y='Monthly_Inhand_Salary', data=df)\n",
        "plt.xticks(rotation=45)\n",
        "plt.title('chart of Monthly Inhand Salary by Occupation')\n",
        "plt.show()\n",
        "\n",
        "\n"
      ],
      "metadata": {
        "id": "7DA-gLCvsPVI"
      },
      "execution_count": null,
      "outputs": []
    },
    {
      "cell_type": "code",
      "source": [
        "from sklearn.model_selection import train_test_split\n",
        "\n",
        "X = df[['Annual_Income', 'Monthly_Inhand_Salary', 'Outstanding_Debt']]  # Example features\n",
        "y = df['Credit_Score']  # Example target variable\n",
        "\n",
        "X_train, X_test, y_train, y_test = train_test_split(X, y, test_size=0.3, random_state=42)\n"
      ],
      "metadata": {
        "id": "883SOMd9t5Zl"
      },
      "execution_count": null,
      "outputs": []
    },
    {
      "cell_type": "code",
      "source": [
        "df.to_csv('cleaned_data_final.csv', index=False)\n",
        "df.head()"
      ],
      "metadata": {
        "id": "GenVdz7Vt9vE"
      },
      "execution_count": null,
      "outputs": []
    },
    {
      "cell_type": "markdown",
      "source": [
        "## ***4. Data Vizualization, Storytelling & Experimenting with charts : Understand the relationships between variables***"
      ],
      "metadata": {
        "id": "GF8Ens_Soomf"
      }
    },
    {
      "cell_type": "markdown",
      "source": [
        "#### Chart - 1  Visualize the distribution of Annual_Income across different Occupation categories"
      ],
      "metadata": {
        "id": "0wOQAZs5pc--"
      }
    },
    {
      "cell_type": "code",
      "source": [
        "# Chart - 1 visualization code\n",
        "# Create a box plot for Annual Income across Occupation\n",
        "plt.figure(figsize=(12, 8))\n",
        "sns.boxplot(x='Occupation', y='Annual_Income', data=df)\n",
        "plt.xticks(rotation=45)  # Rotate x-axis labels for better readability\n",
        "plt.title('Distribution of Annual Income Across Different Occupations')\n",
        "plt.xlabel('Occupation')\n",
        "plt.ylabel('Annual Income')\n",
        "plt.show()"
      ],
      "metadata": {
        "id": "7v_ESjsspbW7"
      },
      "execution_count": null,
      "outputs": []
    },
    {
      "cell_type": "markdown",
      "source": [
        "#### Chart - 2 Visualize the relationship between Credit_Utilization_Ratio and Credit_Score to understand how credit utilization impacts credit scores."
      ],
      "metadata": {
        "id": "KSlN3yHqYklG"
      }
    },
    {
      "cell_type": "code",
      "source": [
        "# Chart - 2 visualization code\n",
        "# Check data types\n",
        "print(df['Credit_Score'].dtype)\n",
        "\n",
        "# Convert Credit_Score to numeric if necessary\n",
        "# If Credit_Score is categorical or has non-numeric values, use the following:\n",
        "df['Credit_Score'] = pd.to_numeric(df['Credit_Score'], errors='coerce')\n",
        "\n",
        "# Drop rows where conversion to numeric failed (resulting in NaN values)\n",
        "df.dropna(subset=['Credit_Score'], inplace=True)\n",
        "\n",
        "sns.pairplot(df[['Credit_Utilization_Ratio', 'Credit_Score']])\n",
        "plt.suptitle('Pair Plot of Credit Utilization Ratio and Credit Score', y=1.02)\n",
        "plt.show()\n",
        "\n"
      ],
      "metadata": {
        "id": "R4YgtaqtYklH"
      },
      "execution_count": null,
      "outputs": []
    },
    {
      "cell_type": "markdown",
      "source": [
        "#### Chart - 3  visualize the average Annual_Income by Occupation."
      ],
      "metadata": {
        "id": "EM7whBJCYoAo"
      }
    },
    {
      "cell_type": "code",
      "source": [
        "# Chart - 3 visualization code\n",
        "\n",
        "# Ensure df is not empty before proceeding\n",
        "if not df.empty:\n",
        "    # Calculate average Annual_Income by Occupation\n",
        "    avg_income_by_occupation = df.groupby('Occupation')['Annual_Income'].mean().sort_values()\n",
        "\n",
        "    # Plot bar chart\n",
        "    plt.figure(figsize=(12, 6))\n",
        "    avg_income_by_occupation.plot(kind='bar', color='skyblue')\n",
        "    plt.title('Average Annual Income by Occupation')\n",
        "    plt.xlabel('Occupation')\n",
        "    plt.ylabel('Average Annual Income')\n",
        "    plt.xticks(rotation=45)\n",
        "    plt.grid(axis='y', linestyle='--', alpha=0.7)\n",
        "    plt.show()\n",
        "else:\n",
        "    print(\"The DataFrame is empty. Please check your data loading or processing.\")"
      ],
      "metadata": {
        "id": "gf4o_ocqxEAq"
      },
      "execution_count": null,
      "outputs": []
    },
    {
      "cell_type": "markdown",
      "source": [
        "#### Chart - 4  Correlation Matrix of Income, Loans, and Debts (Heatmap)"
      ],
      "metadata": {
        "id": "4Of9eVA-YrdM"
      }
    },
    {
      "cell_type": "code",
      "source": [
        "# Chart - 4 visualization code\n",
        "selected_columns = ['Annual_Income', 'Num_of_Loan', 'Outstanding_Debt', 'Monthly_Balance']\n",
        "corr_matrix = df[selected_columns].corr()\n",
        "sns.heatmap(corr_matrix, annot=True, cmap='coolwarm')\n",
        "plt.title('Correlation Matrix of Financial Attributes')\n",
        "plt.show()\n"
      ],
      "metadata": {
        "id": "irlUoxc8YrdO"
      },
      "execution_count": null,
      "outputs": []
    },
    {
      "cell_type": "markdown",
      "source": [
        "#### Chart - 5  Distribution of Number of Loans vs Credit Score (Joint Plot)"
      ],
      "metadata": {
        "id": "bamQiAODYuh1"
      }
    },
    {
      "cell_type": "code",
      "source": [
        "# Chart - 5 visualization code\n",
        "# Convert 'Num_of_Loan' and 'Credit_Score' columns to numeric type\n",
        "df['Num_of_Loan'] = pd.to_numeric(df['Num_of_Loan'], errors='coerce') # Convert to numeric, replace errors with NaN\n",
        "df['Credit_Score'] = pd.to_numeric(df['Credit_Score'], errors='coerce') # Convert to numeric, replace errors with NaN\n",
        "\n",
        "# Drop rows with missing values in 'Num_of_Loan' and 'Credit_Score' columns\n",
        "df = df.dropna(subset=['Num_of_Loan', 'Credit_Score'])\n",
        "\n",
        "# Check if the dataframe is empty after dropping rows\n",
        "if df.empty:\n",
        "    print(\"DataFrame is empty after dropping missing values. Check data for errors or missing values.\")\n",
        "else:\n",
        "    sns.jointplot(x='Num_of_Loan', y='Credit_Score', data=df, kind='hex', cmap='Blues')\n",
        "    plt.title('Joint Distribution of Number of Loans and Credit Score')\n",
        "    plt.show()"
      ],
      "metadata": {
        "id": "TIJwrbroYuh3"
      },
      "execution_count": null,
      "outputs": []
    },
    {
      "cell_type": "markdown",
      "source": [
        "#### Chart - 6  Explore the relationship between Age, Annual Income, Monthly Balance, and Outstanding Debt. Highlight the data points by Credit Score to see if there is any noticeable pattern."
      ],
      "metadata": {
        "id": "OH-pJp9IphqM"
      }
    },
    {
      "cell_type": "code",
      "source": [
        "# Chart - 6 visualization code\n",
        "# Subset the relevant columns and filter the dataset to remove invalid or unknown values in Credit_Score\n",
        "df_filtered = df[df['Credit_Score'].isin(['Good', 'Standard', 'Poor'])]\n",
        "\n",
        "# Select columns of interest for the pairplot\n",
        "cols_of_interest = ['Age', 'Annual_Income', 'Monthly_Balance', 'Outstanding_Debt', 'Credit_Score']\n",
        "\n",
        "# Create a pairplot with hue based on Credit Score\n",
        "sns.pairplot(df_filtered[cols_of_interest], hue='Credit_Score', palette='coolwarm')\n",
        "plt.suptitle('Pairplot of Age, Income, Balance, and Debt Colored by Credit Score', y=1.02)\n",
        "plt.show()"
      ],
      "metadata": {
        "id": "kuRf4wtuphqN"
      },
      "execution_count": null,
      "outputs": []
    },
    {
      "cell_type": "markdown",
      "source": [
        "#### Chart - 7 Examine the relationship between the number of delayed payments and outstanding debt across different occupations using a bubble plot."
      ],
      "metadata": {
        "id": "PIIx-8_IphqN"
      }
    },
    {
      "cell_type": "code",
      "source": [
        "# Chart - 7 visualization code\n",
        "# Group by occupation and calculate mean of 'Num_of_Delayed_Payment' and 'Outstanding_Debt'\n",
        "occupation_stats = df.groupby('Occupation').agg({'Num_of_Delayed_Payment': 'mean', 'Outstanding_Debt': 'mean'}).reset_index()\n",
        "\n",
        "# Normalize the size of the bubbles by scaling the number of delayed payments\n",
        "occupation_stats['Size'] = occupation_stats['Num_of_Delayed_Payment'] * 10  # Scale the bubble size\n",
        "\n",
        "# Create a bubble plot\n",
        "plt.figure(figsize=(12, 8))\n",
        "plt.scatter(occupation_stats['Num_of_Delayed_Payment'], occupation_stats['Outstanding_Debt'],\n",
        "            s=occupation_stats['Size'], alpha=0.6, c='purple', edgecolor='black')\n",
        "\n",
        "# Add labels to the bubbles\n",
        "for i in range(occupation_stats.shape[0]):\n",
        "    plt.text(occupation_stats['Num_of_Delayed_Payment'][i], occupation_stats['Outstanding_Debt'][i],\n",
        "             occupation_stats['Occupation'][i], fontsize=10)\n",
        "\n",
        "# Add axis labels and title\n",
        "plt.xlabel('Average Number of Delayed Payments')\n",
        "plt.ylabel('Average Outstanding Debt')\n",
        "plt.title('Relationship Between Delayed Payments and Outstanding Debt by Occupation')\n",
        "plt.grid(True)\n",
        "plt.show()\n"
      ],
      "metadata": {
        "id": "lqAIGUfyphqO"
      },
      "execution_count": null,
      "outputs": []
    },
    {
      "cell_type": "markdown",
      "source": [
        "#### Chart - 8"
      ],
      "metadata": {
        "id": "BZR9WyysphqO"
      }
    },
    {
      "cell_type": "code",
      "source": [
        "# Chart - 8 visualization code\n",
        "# Count the occurrences of each credit score per occupation\n",
        "\n",
        "# Ensure df is not empty and contains the necessary columns\n",
        "if not df.empty and 'Occupation' in df.columns and 'Credit_Score' in df.columns:\n",
        "    occupation_credit_score = df.groupby(['Occupation', 'Credit_Score']).size().unstack(fill_value=0)\n",
        "\n",
        "    # Check if occupation_credit_score has any numeric data\n",
        "    if not occupation_credit_score.empty:\n",
        "        # Plot a stacked bar chart\n",
        "        occupation_credit_score.plot(kind='bar', stacked=True, figsize=(12, 8), colormap='Set3')\n",
        "\n",
        "        # Add labels and title\n",
        "        plt.title('Distribution of Credit Scores by Occupation')\n",
        "        plt.xlabel('Occupation')\n",
        "        plt.ylabel('Number of Customers')\n",
        "        plt.xticks(rotation=45, ha='right')\n",
        "        plt.legend(title='Credit Score', loc='upper right')\n",
        "        plt.tight_layout()\n",
        "\n",
        "        # Show the chart\n",
        "        plt.show()\n",
        "    else:\n",
        "        print(\"No data available for plotting after grouping.\")\n",
        "else:\n",
        "    print(\"Original DataFrame is empty or missing required columns.\")"
      ],
      "metadata": {
        "id": "t3_mA5W8meiw"
      },
      "execution_count": null,
      "outputs": []
    },
    {
      "cell_type": "markdown",
      "source": [
        "#### Chart - 9"
      ],
      "metadata": {
        "id": "YJ55k-q6phqO"
      }
    },
    {
      "cell_type": "code",
      "source": [
        "# Chart - 9 visualization code\n",
        "import matplotlib.pyplot as plt\n",
        "\n",
        "# Create a hexbin plot to visualize the relationship between Num_Bank_Accounts and Outstanding_Debt\n",
        "plt.figure(figsize=(10, 8))\n",
        "plt.hexbin(df['Num_Bank_Accounts'], df['Outstanding_Debt'], gridsize=30, cmap='Blues', mincnt=1)\n",
        "\n",
        "# Add color bar and labels\n",
        "plt.colorbar(label='Count')\n",
        "plt.title('Hexbin Plot: Num_Bank_Accounts vs. Outstanding_Debt')\n",
        "plt.xlabel('Number of Bank Accounts')\n",
        "plt.ylabel('Outstanding Debt')\n",
        "\n",
        "plt.show()\n"
      ],
      "metadata": {
        "id": "B2aS4O1ophqO"
      },
      "execution_count": null,
      "outputs": []
    },
    {
      "cell_type": "markdown",
      "source": [
        "#### Chart - 10"
      ],
      "metadata": {
        "id": "U2RJ9gkRphqQ"
      }
    },
    {
      "cell_type": "code",
      "source": [
        "# Chart - 10 visualization code\n",
        "# Set the figure size\n",
        "plt.figure(figsize=(12, 8))\n",
        "\n",
        "# Create a violin plot to visualize the distribution of Credit_Score across Occupation\n",
        "sns.violinplot(x='Occupation', y='Credit_Score', data=df)\n",
        "\n",
        "# Add title and labels\n",
        "plt.title('Credit Score Distribution Across Occupations', fontsize=16)\n",
        "plt.xlabel('Occupation', fontsize=12)\n",
        "plt.ylabel('Credit Score', fontsize=12)\n",
        "\n",
        "# Rotate x-axis labels for better readability\n",
        "plt.xticks(rotation=45)\n",
        "\n",
        "plt.show()\n"
      ],
      "metadata": {
        "id": "GM7a4YP4phqQ"
      },
      "execution_count": null,
      "outputs": []
    },
    {
      "cell_type": "markdown",
      "source": [
        "# **Conclusion**"
      ],
      "metadata": {
        "id": "gCX9965dhzqZ"
      }
    },
    {
      "cell_type": "markdown",
      "source": [
        "After analyzing the data, several insights emerged that could help in detecting fraud:\n",
        "\n",
        "**Occupation and Credit Score Patterns:** Some occupations showed unusual distributions of credit scores. This could indicate potential fraudulent activities, particularly if certain professions are overrepresented in low-credit-score categories.\n",
        "\n",
        "**Credit Utilization Ratio:** Customers with extremely high credit utilization were flagged as potential risks. High credit utilization can indicate financial distress, a key indicator of possible fraud.\n",
        "\n",
        "**Payment Behavior:** Customers with a history of missed payments or delays in settling debts were found to have lower credit scores and higher outstanding debts. These behavioral patterns could be used to monitor and predict fraud.\n",
        "\n",
        "**Loan Details:** The analysis of loan types and the number of loans revealed that some customers have excessive loan numbers, which could be a sign of fraudulent attempts to exploit the banking system.\n",
        "\n",
        "**Final Thoughts:**\n",
        "The project successfully identified key areas of risk and potential fraud indicators within the customer base. By combining data wrangling, exploratory data analysis, and advanced visualizations, we were able to highlight patterns that can be further investigated to develop fraud detection systems. Moving forward, machine learning algorithms can be employed to automate and improve the accuracy of fraud detection based on the features identified in this analysis.\n",
        "\n",
        "\n",
        "\n",
        "\n",
        "\n",
        "\n"
      ],
      "metadata": {
        "id": "Fjb1IsQkh3yE"
      }
    },
    {
      "cell_type": "markdown",
      "source": [
        "### ***Hurrah! You have successfully completed your Paisabazaar banking Fraud Analysis Capstone Project !!!***"
      ],
      "metadata": {
        "id": "gIfDvo9L0UH2"
      }
    }
  ]
}